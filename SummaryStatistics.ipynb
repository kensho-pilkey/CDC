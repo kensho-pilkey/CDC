{
 "cells": [
  {
   "cell_type": "markdown",
   "metadata": {},
   "source": [
    "**Misc install**"
   ]
  },
  {
   "cell_type": "code",
   "execution_count": 1,
   "metadata": {},
   "outputs": [],
   "source": [
    "import pandas as pd\n",
    "import seaborn as sns\n",
    "import matplotlib.pyplot as plt\n",
    "import math"
   ]
  },
  {
   "cell_type": "code",
   "execution_count": 2,
   "metadata": {},
   "outputs": [],
   "source": [
    "df = pd.read_excel('Health_Science_Dataset.xlsx', header=1)\n",
    "\n",
    "# String\n",
    "for col_idx in [6, 7, 8, 9]:\n",
    "    col_name = df.columns[col_idx]\n",
    "    df[col_name] = df[col_name].astype(str)\n",
    "\n",
    "# Dates\n",
    "for col_idx in [0, 1, 2, 5]:\n",
    "    col_name = df.columns[col_idx]\n",
    "    df[col_name] = pd.to_datetime(df[col_name], format='%Y-%m-%d %H:%M:%S', errors='coerce')\n",
    "\n",
    "# Year\n",
    "df.iloc[:, 3] = pd.to_datetime(df.iloc[:, 3], format='%Y', errors='coerce')\n",
    "\n",
    "# Integer\n",
    "for col_idx in [4] + list(range(10, 16)):\n",
    "    col_name = df.columns[col_idx]\n",
    "    df[col_name] = df[col_name].apply(lambda x: int(x) if pd.notna(x) else x)"
   ]
  },
  {
   "cell_type": "markdown",
   "metadata": {},
   "source": [
    "**Basic Summary Statistics**"
   ]
  },
  {
   "cell_type": "code",
   "execution_count": 3,
   "metadata": {},
   "outputs": [],
   "source": [
    "North_Carolina= df[df['Jurisdiction'] == 'North Carolina']"
   ]
  },
  {
   "cell_type": "code",
   "execution_count": 4,
   "metadata": {},
   "outputs": [
    {
     "name": "stdout",
     "output_type": "stream",
     "text": [
      "The mean COVID-19 deaths for North Carolina per week is: 97.\n"
     ]
    }
   ],
   "source": [
    "def avg_deaths_jurisdiction(df):\n",
    "    avg_death = df.groupby('Jurisdiction')[\"COVID-19 Deaths\"].mean()\n",
    "\n",
    "    for Jurisdiction, mean_weight in avg_death.items():\n",
    "        print(f\"The mean COVID-19 deaths for {Jurisdiction} per week is: {math.ceil(mean_weight)}.\")\n",
    "    \n",
    "    return\n",
    "avg_deaths_jurisdiction(North_Carolina)"
   ]
  },
  {
   "cell_type": "code",
   "execution_count": 17,
   "metadata": {},
   "outputs": [
    {
     "name": "stdout",
     "output_type": "stream",
     "text": [
      "The mean COVID-19 US deaths for 0-17 years per week is: 1.\n",
      "The mean COVID-19 US deaths for 18-64 years per week is: 103.\n",
      "The mean COVID-19 US deaths for 65 years and over per week is: 250.\n",
      "The mean COVID-19 US deaths for All Ages per week is: 322.\n"
     ]
    }
   ],
   "source": [
    "def avg_deaths_age_group(df):\n",
    "    avg_death = df.groupby('Age Group')[\"COVID-19 Deaths\"].mean()\n",
    "\n",
    "    for age_group, mean_weight in avg_death.items():\n",
    "        print(f\"The mean COVID-19 US deaths for {age_group} per week is: {math.ceil(mean_weight)}.\")\n",
    "    \n",
    "    return\n",
    "avg_deaths_age_group(df)"
   ]
  },
  {
   "cell_type": "code",
   "execution_count": 16,
   "metadata": {},
   "outputs": [
    {
     "name": "stdout",
     "output_type": "stream",
     "text": [
      "The mean United States COVID-19 deaths for week 1 is: 308.\n",
      "The mean United States COVID-19 deaths for week 2 is: 331.\n",
      "The mean United States COVID-19 deaths for week 3 is: 335.\n",
      "The mean United States COVID-19 deaths for week 4 is: 306.\n",
      "The mean United States COVID-19 deaths for week 5 is: 259.\n",
      "The mean United States COVID-19 deaths for week 6 is: 217.\n",
      "The mean United States COVID-19 deaths for week 7 is: 176.\n",
      "The mean United States COVID-19 deaths for week 8 is: 138.\n",
      "The mean United States COVID-19 deaths for week 9 is: 108.\n",
      "The mean United States COVID-19 deaths for week 10 is: 89.\n",
      "The mean United States COVID-19 deaths for week 11 is: 77.\n",
      "The mean United States COVID-19 deaths for week 12 is: 73.\n",
      "The mean United States COVID-19 deaths for week 13 is: 88.\n",
      "The mean United States COVID-19 deaths for week 14 is: 136.\n",
      "The mean United States COVID-19 deaths for week 15 is: 182.\n",
      "The mean United States COVID-19 deaths for week 16 is: 190.\n",
      "The mean United States COVID-19 deaths for week 17 is: 171.\n",
      "The mean United States COVID-19 deaths for week 18 is: 156.\n",
      "The mean United States COVID-19 deaths for week 19 is: 139.\n",
      "The mean United States COVID-19 deaths for week 20 is: 118.\n",
      "The mean United States COVID-19 deaths for week 21 is: 101.\n",
      "The mean United States COVID-19 deaths for week 22 is: 92.\n",
      "The mean United States COVID-19 deaths for week 23 is: 79.\n",
      "The mean United States COVID-19 deaths for week 24 is: 71.\n",
      "The mean United States COVID-19 deaths for week 25 is: 67.\n",
      "The mean United States COVID-19 deaths for week 26 is: 68.\n",
      "The mean United States COVID-19 deaths for week 27 is: 76.\n",
      "The mean United States COVID-19 deaths for week 28 is: 90.\n",
      "The mean United States COVID-19 deaths for week 29 is: 110.\n",
      "The mean United States COVID-19 deaths for week 30 is: 129.\n",
      "The mean United States COVID-19 deaths for week 31 is: 152.\n",
      "The mean United States COVID-19 deaths for week 32 is: 169.\n",
      "The mean United States COVID-19 deaths for week 33 is: 185.\n",
      "The mean United States COVID-19 deaths for week 34 is: 192.\n",
      "The mean United States COVID-19 deaths for week 35 is: 190.\n",
      "The mean United States COVID-19 deaths for week 36 is: 186.\n",
      "The mean United States COVID-19 deaths for week 37 is: 182.\n",
      "The mean United States COVID-19 deaths for week 38 is: 171.\n",
      "The mean United States COVID-19 deaths for week 39 is: 160.\n",
      "The mean United States COVID-19 deaths for week 40 is: 144.\n",
      "The mean United States COVID-19 deaths for week 41 is: 134.\n",
      "The mean United States COVID-19 deaths for week 42 is: 132.\n",
      "The mean United States COVID-19 deaths for week 43 is: 125.\n",
      "The mean United States COVID-19 deaths for week 44 is: 156.\n",
      "The mean United States COVID-19 deaths for week 45 is: 171.\n",
      "The mean United States COVID-19 deaths for week 46 is: 189.\n",
      "The mean United States COVID-19 deaths for week 47 is: 225.\n",
      "The mean United States COVID-19 deaths for week 48 is: 255.\n",
      "The mean United States COVID-19 deaths for week 49 is: 293.\n",
      "The mean United States COVID-19 deaths for week 50 is: 317.\n",
      "The mean United States COVID-19 deaths for week 51 is: 338.\n",
      "The mean United States COVID-19 deaths for week 52 is: 361.\n",
      "The mean United States COVID-19 deaths for week 53 is: 666.\n"
     ]
    }
   ],
   "source": [
    "def avg_deaths_age_group(df):\n",
    "    avg_death = df.groupby('MMWRweek')[\"COVID-19 Deaths\"].mean()\n",
    "\n",
    "    for age_group, mean_weight in avg_death.items():\n",
    "        print(f\"The mean United States COVID-19 deaths for week {age_group} is: {math.ceil(mean_weight)}.\")\n",
    "    \n",
    "    return\n",
    "avg_deaths_age_group(df)"
   ]
  },
  {
   "cell_type": "markdown",
   "metadata": {},
   "source": [
    "**By year death change**"
   ]
  },
  {
   "cell_type": "code",
   "execution_count": 14,
   "metadata": {},
   "outputs": [
    {
     "name": "stdout",
     "output_type": "stream",
     "text": [
      "The amount of United States COVID-19 deaths for 2020 is: 11502.\n",
      "The amount of United States COVID-19 deaths for 2021 is: 10993.\n",
      "The amount of United States COVID-19 deaths for 2022 is: 9738.\n",
      "The amount of United States COVID-19 deaths for 2023 is: 7307.\n"
     ]
    },
    {
     "data": {
      "text/plain": [
       "MMWRyear\n",
       "2020    11502\n",
       "2021    10993\n",
       "2022     9738\n",
       "2023     7307\n",
       "Name: COVID-19 Deaths, dtype: int64"
      ]
     },
     "execution_count": 14,
     "metadata": {},
     "output_type": "execute_result"
    }
   ],
   "source": [
    "def death_count_per_year(df):\n",
    "    # Take the death count for each year.\n",
    "    year_column = pd.to_datetime(df['MMWRyear'], errors='coerce').dt.year\n",
    "\n",
    "    temp_df = df.copy()\n",
    "    temp_df['MMWRyear'] = year_column\n",
    "\n",
    "    deaths_per_year = temp_df.groupby('MMWRyear')['COVID-19 Deaths'].count()\n",
    "\n",
    "    for year, death_count in deaths_per_year.items():\n",
    "        print(f\"The amount of United States COVID-19 deaths for {year} is: {math.ceil(death_count)}.\")\n",
    "    return deaths_per_year\n",
    "death_count_per_year(df)"
   ]
  },
  {
   "cell_type": "code",
   "execution_count": 15,
   "metadata": {},
   "outputs": [
    {
     "name": "stdout",
     "output_type": "stream",
     "text": [
      "The amount of United States COVID-19 deaths for 2020 is: 11502.\n",
      "The amount of United States COVID-19 deaths for 2021 is: 10993.\n",
      "The amount of United States COVID-19 deaths for 2022 is: 9738.\n",
      "The amount of United States COVID-19 deaths for 2023 is: 7307.\n",
      "The percentage change in United States COVID-19 deaths for 2020 is: nan%.\n",
      "The percentage change in United States COVID-19 deaths for 2021 is: -4.43%.\n",
      "The percentage change in United States COVID-19 deaths for 2022 is: -11.42%.\n",
      "The percentage change in United States COVID-19 deaths for 2023 is: -24.96%.\n"
     ]
    }
   ],
   "source": [
    "def death_change(df):\n",
    "    # Take the death count from second year and then divide by first.\n",
    "    deaths_per_year = death_count_per_year(df)\n",
    "\n",
    "    percent_changes = deaths_per_year.pct_change()*100\n",
    "\n",
    "    for year, percent_change in percent_changes.items():\n",
    "        print(f\"The percentage change in United States COVID-19 deaths for {int(year)} is: {percent_change:.2f}%.\") \n",
    "\n",
    "death_change(df)"
   ]
  },
  {
   "cell_type": "code",
   "execution_count": null,
   "metadata": {},
   "outputs": [],
   "source": []
  }
 ],
 "metadata": {
  "kernelspec": {
   "display_name": "base",
   "language": "python",
   "name": "python3"
  },
  "language_info": {
   "codemirror_mode": {
    "name": "ipython",
    "version": 3
   },
   "file_extension": ".py",
   "mimetype": "text/x-python",
   "name": "python",
   "nbconvert_exporter": "python",
   "pygments_lexer": "ipython3",
   "version": "3.12.4"
  }
 },
 "nbformat": 4,
 "nbformat_minor": 2
}
