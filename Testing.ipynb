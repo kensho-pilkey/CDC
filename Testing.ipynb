{
 "cells": [
  {
   "cell_type": "code",
   "execution_count": 6,
   "metadata": {},
   "outputs": [],
   "source": [
    "import pandas as pd\n",
    "import seaborn as sns\n",
    "import matplotlib.pyplot as plt"
   ]
  },
  {
   "cell_type": "code",
   "execution_count": 7,
   "metadata": {},
   "outputs": [],
   "source": [
    "df = pd.read_excel('Health_Science_Dataset.xlsx', header=1)"
   ]
  },
  {
   "cell_type": "code",
   "execution_count": 10,
   "metadata": {},
   "outputs": [
    {
     "name": "stdout",
     "output_type": "stream",
     "text": [
      "       Data As Of  Start Week    End Week  MMWRyear  MMWRweek  \\\n",
      "50395  11/02/2023  10/22/2023  10/28/2023      2023        43   \n",
      "50396  11/02/2023  10/22/2023  10/28/2023      2023        43   \n",
      "50397  11/02/2023  10/22/2023  10/28/2023      2023        43   \n",
      "50398  11/02/2023  10/22/2023  10/28/2023      2023        43   \n",
      "50399  11/02/2023  10/22/2023  10/28/2023      2023        43   \n",
      "\n",
      "      Week Ending Date    Group    Indicator   Jurisdiction  \\\n",
      "50395       10/28/2023  By Week  Week-ending   HHS Region 9   \n",
      "50396       10/28/2023  By Week  Week-ending  HHS Region 10   \n",
      "50397       10/28/2023  By Week  Week-ending  HHS Region 10   \n",
      "50398       10/28/2023  By Week  Week-ending  HHS Region 10   \n",
      "50399       10/28/2023  By Week  Week-ending  HHS Region 10   \n",
      "\n",
      "               Age Group  COVID-19 Deaths  Total Deaths  Pneumonia Deaths  \\\n",
      "50395  65 years and over             43.0        1970.0             128.0   \n",
      "50396           All Ages             14.0         435.0              26.0   \n",
      "50397         0-17 years              0.0           0.0               0.0   \n",
      "50398        18-64 years              0.0          61.0               NaN   \n",
      "50399  65 years and over             14.0         374.0              23.0   \n",
      "\n",
      "       Influenza Deaths  Pneumonia or Influenza  \\\n",
      "50395               NaN                   129.0   \n",
      "50396               0.0                    26.0   \n",
      "50397               0.0                     0.0   \n",
      "50398               0.0                     NaN   \n",
      "50399               0.0                    23.0   \n",
      "\n",
      "       Pneumonia, Influenza, or COVID-19 Deaths  \n",
      "50395                                     155.0  \n",
      "50396                                      36.0  \n",
      "50397                                       0.0  \n",
      "50398                                       NaN  \n",
      "50399                                      33.0  \n"
     ]
    }
   ],
   "source": [
    "print(df.tail())"
   ]
  },
  {
   "cell_type": "code",
   "execution_count": 11,
   "metadata": {},
   "outputs": [],
   "source": [
    "North_Carolina= df[df['Jurisdiction'] == 'North Carolina']"
   ]
  },
  {
   "cell_type": "code",
   "execution_count": 12,
   "metadata": {},
   "outputs": [
    {
     "name": "stdout",
     "output_type": "stream",
     "text": [
      "     Data As Of  Start Week    End Week  MMWRyear  MMWRweek Week Ending Date  \\\n",
      "140  11/02/2023  12/29/2019  01/04/2020      2020         1       01/04/2020   \n",
      "141  11/02/2023  12/29/2019  01/04/2020      2020         1       01/04/2020   \n",
      "142  11/02/2023  12/29/2019  01/04/2020      2020         1       01/04/2020   \n",
      "143  11/02/2023  12/29/2019  01/04/2020      2020         1       01/04/2020   \n",
      "392  11/02/2023  01/05/2020  01/11/2020      2020         2       01/11/2020   \n",
      "\n",
      "       Group    Indicator    Jurisdiction          Age Group  COVID-19 Deaths  \\\n",
      "140  By Week  Week-ending  North Carolina           All Ages              0.0   \n",
      "141  By Week  Week-ending  North Carolina         0-17 years              0.0   \n",
      "142  By Week  Week-ending  North Carolina        18-64 years              0.0   \n",
      "143  By Week  Week-ending  North Carolina  65 years and over              0.0   \n",
      "392  By Week  Week-ending  North Carolina           All Ages              0.0   \n",
      "\n",
      "     Total Deaths  Pneumonia Deaths  Influenza Deaths  Pneumonia or Influenza  \\\n",
      "140        1980.0             125.0               NaN                   134.0   \n",
      "141          16.0               0.0               NaN                     NaN   \n",
      "142         493.0              20.0               NaN                    24.0   \n",
      "143        1471.0             105.0               NaN                   109.0   \n",
      "392        1985.0             129.0              18.0                   147.0   \n",
      "\n",
      "     Pneumonia, Influenza, or COVID-19 Deaths  \n",
      "140                                     134.0  \n",
      "141                                       NaN  \n",
      "142                                      24.0  \n",
      "143                                     109.0  \n",
      "392                                     147.0  \n"
     ]
    }
   ],
   "source": [
    "print(North_Carolina.head())"
   ]
  },
  {
   "cell_type": "code",
   "execution_count": 14,
   "metadata": {},
   "outputs": [],
   "source": [
    "nc_avg_death_17u = North_Carolina['Age Group']"
   ]
  },
  {
   "cell_type": "code",
   "execution_count": 16,
   "metadata": {},
   "outputs": [
    {
     "data": {
      "text/plain": [
       "type"
      ]
     },
     "execution_count": 16,
     "metadata": {},
     "output_type": "execute_result"
    }
   ],
   "source": []
  },
  {
   "cell_type": "code",
   "execution_count": null,
   "metadata": {},
   "outputs": [],
   "source": []
  }
 ],
 "metadata": {
  "kernelspec": {
   "display_name": "base",
   "language": "python",
   "name": "python3"
  },
  "language_info": {
   "codemirror_mode": {
    "name": "ipython",
    "version": 3
   },
   "file_extension": ".py",
   "mimetype": "text/x-python",
   "name": "python",
   "nbconvert_exporter": "python",
   "pygments_lexer": "ipython3",
   "version": "3.12.4"
  }
 },
 "nbformat": 4,
 "nbformat_minor": 2
}
